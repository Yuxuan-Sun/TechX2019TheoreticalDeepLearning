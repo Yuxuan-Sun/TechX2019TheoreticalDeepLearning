{
 "cells": [
  {
   "cell_type": "code",
   "execution_count": 1,
   "metadata": {},
   "outputs": [],
   "source": [
    "# Import your necessary package\n",
    "import time\n",
    "import numpy as np\n",
    "import torch\n",
    "import torch.nn as nn\n",
    "from torchvision import datasets, transforms\n",
    "from torch.autograd import Variable\n",
    "import matplotlib.pyplot as plt"
   ]
  },
  {
   "cell_type": "code",
   "execution_count": 2,
   "metadata": {},
   "outputs": [],
   "source": [
    "% matplotlib inline"
   ]
  },
  {
   "cell_type": "code",
   "execution_count": 3,
   "metadata": {},
   "outputs": [],
   "source": [
    "seed = 42\n",
    "device = torch.device(\"cuda\" if torch.cuda.is_available() else \"cpu\")\n",
    "torch.set_num_threads(8)\n",
    "np.random.seed(seed)\n",
    "torch.manual_seed(seed)\n",
    "dtype = np.float32"
   ]
  },
  {
   "cell_type": "code",
   "execution_count": 4,
   "metadata": {},
   "outputs": [],
   "source": [
    "# Build and transform the dataset\n",
    "kwargs = {\"num_workers\": 1, \"pin_memory\": True}\n",
    "trains = datasets.MNIST('./data', train=True, download=True,\n",
    "                        transform=transforms.Compose([\n",
    "                            transforms.ToTensor(),\n",
    "                            transforms.Normalize((0.1307,), (0.3081,)),\n",
    "                        ]))\n",
    "tests = datasets.MNIST('./data', train=False,\n",
    "                       transform=transforms.Compose([\n",
    "                            transforms.ToTensor(),\n",
    "                            transforms.Normalize((0.1307,), (0.3081,)),\n",
    "                        ]))\n",
    "batch_size = 200\n",
    "train_loader = torch.utils.data.DataLoader(trains, batch_size=batch_size, shuffle=True, **kwargs)\n",
    "test_loader = torch.utils.data.DataLoader(tests, batch_size=batch_size, shuffle=True, **kwargs)"
   ]
  },
  {
   "cell_type": "code",
   "execution_count": 5,
   "metadata": {},
   "outputs": [
    {
     "name": "stdout",
     "output_type": "stream",
     "text": [
      "Number of training instances: 60000\n",
      "Number of test instances: 10000\n"
     ]
    }
   ],
   "source": [
    "num_train = len(trains)\n",
    "num_test = len(tests)\n",
    "# Input dimension\n",
    "input_dim = 784\n",
    "# Output dimension\n",
    "output_dim = 10\n",
    "# Step size/Learning rate\n",
    "lrate = 1e-2\n",
    "# L2 regularization term\n",
    "tau = 5e-2\n",
    "# number of epoches for training\n",
    "num_epochs = 10\n",
    "print(\"Number of training instances: {}\".format(num_train))\n",
    "print(\"Number of test instances: {}\".format(num_test))"
   ]
  },
  {
   "cell_type": "code",
   "execution_count": 6,
   "metadata": {},
   "outputs": [],
   "source": [
    "# Define your Logistic Regression model here\n",
    "class LogisticsRegression(nn.Module):\n",
    "    def __init__(self, input_dim, output_dim):\n",
    "        super(LogisticsRegression, self).__init__()\n",
    "        self.linear = nn.Linear(input_dim, output_dim)\n",
    "    def forward(self, x):\n",
    "        result = self.linear(x)\n",
    "        return result"
   ]
  },
  {
   "cell_type": "code",
   "execution_count": 7,
   "metadata": {},
   "outputs": [
    {
     "name": "stdout",
     "output_type": "stream",
     "text": [
      "Epoch: [1/10], Step: [100/300], Loss: 0.6146\n",
      "Epoch: [1/10], Step: [200/300], Loss: 0.4428\n",
      "Epoch: [1/10], Step: [300/300], Loss: 0.5176\n",
      "Epoch: [2/10], Step: [100/300], Loss: 0.4384\n",
      "Epoch: [2/10], Step: [200/300], Loss: 0.3701\n",
      "Epoch: [2/10], Step: [300/300], Loss: 0.4617\n",
      "Epoch: [3/10], Step: [100/300], Loss: 0.3934\n",
      "Epoch: [3/10], Step: [200/300], Loss: 0.3925\n",
      "Epoch: [3/10], Step: [300/300], Loss: 0.4084\n",
      "Epoch: [4/10], Step: [100/300], Loss: 0.4116\n",
      "Epoch: [4/10], Step: [200/300], Loss: 0.3692\n",
      "Epoch: [4/10], Step: [300/300], Loss: 0.4131\n",
      "Epoch: [5/10], Step: [100/300], Loss: 0.3640\n",
      "Epoch: [5/10], Step: [200/300], Loss: 0.3486\n",
      "Epoch: [5/10], Step: [300/300], Loss: 0.4600\n",
      "Epoch: [6/10], Step: [100/300], Loss: 0.3972\n",
      "Epoch: [6/10], Step: [200/300], Loss: 0.4004\n",
      "Epoch: [6/10], Step: [300/300], Loss: 0.4148\n",
      "Epoch: [7/10], Step: [100/300], Loss: 0.3462\n",
      "Epoch: [7/10], Step: [200/300], Loss: 0.2923\n",
      "Epoch: [7/10], Step: [300/300], Loss: 0.3987\n",
      "Epoch: [8/10], Step: [100/300], Loss: 0.3486\n",
      "Epoch: [8/10], Step: [200/300], Loss: 0.3209\n",
      "Epoch: [8/10], Step: [300/300], Loss: 0.3421\n",
      "Epoch: [9/10], Step: [100/300], Loss: 0.3098\n",
      "Epoch: [9/10], Step: [200/300], Loss: 0.3449\n",
      "Epoch: [9/10], Step: [300/300], Loss: 0.3075\n",
      "Epoch: [10/10], Step: [100/300], Loss: 0.3561\n",
      "Epoch: [10/10], Step: [200/300], Loss: 0.3047\n",
      "Epoch: [10/10], Step: [300/300], Loss: 0.3162\n"
     ]
    }
   ],
   "source": [
    "# Your training code here\n",
    "model = LogisticsRegression(input_dim, output_dim)\n",
    "criterion = nn.CrossEntropyLoss()  \n",
    "optimizer = torch.optim.SGD(model.parameters(), lr=lrate, weight_decay=tau)  \n",
    "\n",
    "# Training the Model\n",
    "for epoch in range(num_epochs):\n",
    "    for i, (images, labels) in enumerate(train_loader):\n",
    "        images = Variable(images.view(-1, 28*28))\n",
    "        labels = Variable(labels)\n",
    "        optimizer.zero_grad()\n",
    "        outputs = model(images)\n",
    "        loss = criterion(outputs, labels)\n",
    "        loss.backward()\n",
    "        optimizer.step()\n",
    "        \n",
    "        if (i+1) % 100 == 0:\n",
    "            print ('Epoch: [%d/%d], Step: [%d/%d], Loss: %.4f' \n",
    "                   % (epoch+1, num_epochs, i+1, num_train//batch_size, loss.data))"
   ]
  },
  {
   "cell_type": "code",
   "execution_count": 8,
   "metadata": {},
   "outputs": [
    {
     "name": "stdout",
     "output_type": "stream",
     "text": [
      "Accuracy of the model on the 10000 test images: 91 %\n"
     ]
    }
   ],
   "source": [
    "# Your test code here\n",
    "correct = 0\n",
    "total = 0\n",
    "for images, labels in test_loader:\n",
    "    images = Variable(images.view(-1, 28*28))\n",
    "    outputs = model(images)\n",
    "    _, predicted = torch.max(outputs.data, 1)\n",
    "    total += labels.size(0)\n",
    "    correct += (predicted == labels).sum()\n",
    "    \n",
    "print('Accuracy of the model on the 10000 test images: %d %%' % (100 * correct / total))"
   ]
  },
  {
   "cell_type": "code",
   "execution_count": null,
   "metadata": {},
   "outputs": [],
   "source": []
  }
 ],
 "metadata": {
  "kernelspec": {
   "display_name": "Python 3",
   "language": "python",
   "name": "python3"
  },
  "language_info": {
   "codemirror_mode": {
    "name": "ipython",
    "version": 3
   },
   "file_extension": ".py",
   "mimetype": "text/x-python",
   "name": "python",
   "nbconvert_exporter": "python",
   "pygments_lexer": "ipython3",
   "version": "3.6.5"
  }
 },
 "nbformat": 4,
 "nbformat_minor": 2
}
