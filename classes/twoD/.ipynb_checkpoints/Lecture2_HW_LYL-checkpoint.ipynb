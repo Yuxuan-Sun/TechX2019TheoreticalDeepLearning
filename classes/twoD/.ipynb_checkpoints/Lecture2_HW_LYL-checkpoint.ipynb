{
 "cells": [
  {
   "cell_type": "code",
   "execution_count": 10,
   "metadata": {},
   "outputs": [],
   "source": [
    "import matplotlib.pyplot as plt\n",
    "import numpy as np\n",
    "import time\n",
    "from sklearn import datasets"
   ]
  },
  {
   "cell_type": "code",
   "execution_count": 11,
   "metadata": {},
   "outputs": [],
   "source": [
    "%matplotlib inline"
   ]
  },
  {
   "cell_type": "code",
   "execution_count": 12,
   "metadata": {},
   "outputs": [
    {
     "name": "stdout",
     "output_type": "stream",
     "text": [
      "Number of training data: 309\n",
      "Number of test data: 133\n",
      "Number of attributes: 11\n"
     ]
    }
   ],
   "source": [
    "diabetes = datasets.load_diabetes()\n",
    "data, target = diabetes.data, diabetes.target\n",
    "num_insts, num_attrs = data.shape\n",
    "augmented_data = np.ones((num_insts, num_attrs + 1))\n",
    "num_attrs += 1\n",
    "augmented_data[:, :-1] = data\n",
    "data = augmented_data\n",
    "idx = np.arange(num_insts)\n",
    "np.random.shuffle(idx)\n",
    "num_train = int(0.7 * num_insts)\n",
    "data, target = data[idx], target[idx]\n",
    "data_train, target_train = data[:num_train], target[:num_train]\n",
    "data_test, target_test = data[num_train:], target[num_train:]\n",
    "print(\"Number of training data: {}\".format(num_train))\n",
    "print(\"Number of test data: {}\".format(num_insts - num_train))\n",
    "print(\"Number of attributes: {}\".format(data.shape[1]))"
   ]
  },
  {
   "cell_type": "code",
   "execution_count": 29,
   "metadata": {},
   "outputs": [
    {
     "name": "stderr",
     "output_type": "stream",
     "text": [
      "/anaconda3/lib/python3.6/site-packages/numpy/core/_methods.py:32: RuntimeWarning: overflow encountered in reduce\n",
      "  return umr_sum(a, axis, dtype, out, keepdims)\n",
      "/anaconda3/lib/python3.6/site-packages/ipykernel_launcher.py:28: RuntimeWarning: overflow encountered in square\n",
      "/anaconda3/lib/python3.6/site-packages/ipykernel_launcher.py:26: RuntimeWarning: invalid value encountered in subtract\n"
     ]
    },
    {
     "name": "stdout",
     "output_type": "stream",
     "text": [
      "Time elapsed for training: 0.2150561809539795 seconds.\n"
     ]
    }
   ],
   "source": [
    "# Method 1, implement the gradient descent algorithm\n",
    "w = np.zeros(num_attrs)\n",
    "\n",
    "## Please implement your gradient descent method here.\n",
    "## Stop condition: ||gradient|| <= eps || num_iters > 5000\n",
    "eps = 1e-3\n",
    "max_iters = 5000\n",
    "train_losses, train_gradients = np.zeros(max_iters), np.zeros(max_iters)\n",
    "num_iters = 0\n",
    "start_time = time.time()\n",
    "\n",
    "x, y = data_train, target_train\n",
    "w = np.ones(num_attrs)\n",
    "\n",
    "learning_rate = 0.05\n",
    "cost = eps + 1\n",
    "\n",
    "## Your code here, remember:\n",
    "## 1. You should record your training loss in each iteration\n",
    "## 2. You should record your gradient norm in each iteration\n",
    "## 3. Remember that even for convex functions, if step_size/learning_rate is too larget, then it can diverge.\n",
    "\n",
    "while num_iters < max_iters and cost > eps:\n",
    "    predictions = x.dot(w)\n",
    "    gradient = x.T.dot(predictions - y)\n",
    "    w = w - 1/num_attrs * learning_rate * gradient\n",
    "    gradient_norm = np.linalg.norm(gradient)\n",
    "    train_losses[num_iters] = 1/2/num_attrs * np.sum(np.square(x.dot(w) - y))\n",
    "    train_gradients[num_iters] = gradient_norm\n",
    "    num_iters = num_iters + 1\n",
    "\n",
    "\n",
    "end_time = time.time()\n",
    "print(\"Time elapsed for training: {} seconds.\".format(end_time - start_time))"
   ]
  },
  {
   "cell_type": "code",
   "execution_count": 30,
   "metadata": {},
   "outputs": [
    {
     "data": {
      "image/png": "[encoded data removed]",
      "text/plain": [
       "<Figure size 432x288 with 1 Axes>"
      ]
     },
     "metadata": {},
     "output_type": "display_data"
    }
   ],
   "source": [
    "## Plot training losses\n",
    "plt.figure()\n",
    "plt.plot(np.arange(num_iters), train_losses[:num_iters], \"b--\", linewidth=2)\n",
    "plt.grid(True)\n",
    "plt.title(\"Training Loss vs. Iteration\")\n",
    "plt.show()"
   ]
  },
  {
   "cell_type": "code",
   "execution_count": 6,
   "metadata": {},
   "outputs": [
    {
     "data": {
      "image/png": "[encoded data removed]",
      "text/plain": [
       "<Figure size 432x288 with 1 Axes>"
      ]
     },
     "metadata": {},
     "output_type": "display_data"
    }
   ],
   "source": [
    "## Plot training gradient norms\n",
    "plt.figure()\n",
    "plt.plot(np.arange(num_iters), train_gradients[:num_iters], \"g--\", linewidth=2)\n",
    "plt.grid(True)\n",
    "plt.title(\"Training Gradient Norm vs. Iteration\")\n",
    "plt.show()"
   ]
  },
  {
   "cell_type": "code",
   "execution_count": 7,
   "metadata": {},
   "outputs": [
    {
     "name": "stdout",
     "output_type": "stream",
     "text": [
      "[  32.54117591 -249.23384591  480.36545701  256.88383719 -129.1889158\n",
      "   15.50112559 -237.69146073   42.5638576   535.73529444   38.38111946\n",
      "  152.72908524]\n",
      "Average test error: 3172.0017960677474.\n"
     ]
    }
   ],
   "source": [
    "## Check the value of final weight vector w\n",
    "print(w)\n",
    "\n",
    "## Use the obtained w for prediction, record the test error.\n",
    "preds = np.dot(data_test, w)\n",
    "mse_test = np.mean((preds - target_test) ** 2)\n",
    "print(\"Average test error: {}.\".format(mse_test))"
   ]
  },
  {
   "cell_type": "code",
   "execution_count": 8,
   "metadata": {},
   "outputs": [
    {
     "name": "stdout",
     "output_type": "stream",
     "text": [
      "Time elapsed: 0.01026296615600586 seconds.\n",
      "[  25.16717319 -256.6363254   462.06704144  261.43803977 -916.97484325\n",
      "  662.38787428   79.65586746   99.42796774  852.10305021   33.01536287\n",
      "  152.68950784]\n"
     ]
    }
   ],
   "source": [
    "# Method 2, implement the closed-form solution\n",
    "start_time = time.time()\n",
    "x_trans = x.T\n",
    "x_pinv = np.dot(np.linalg.inv(np.dot(x_trans,x)), x_trans)\n",
    "w = np.dot(x_pinv, y)\n",
    "end_time = time.time()\n",
    "print(\"Time elapsed: {} seconds.\".format(end_time - start_time))\n",
    "print(w)"
   ]
  },
  {
   "cell_type": "code",
   "execution_count": 9,
   "metadata": {},
   "outputs": [
    {
     "name": "stdout",
     "output_type": "stream",
     "text": [
      "Average test error: 3193.310640841931.\n"
     ]
    }
   ],
   "source": [
    "## Use the obtained w for prediction, record the test error.\n",
    "preds = np.dot(data_test, w)\n",
    "mse_test = np.mean((preds - target_test) ** 2)\n",
    "print(\"Average test error: {}.\".format(mse_test))"
   ]
  },
  {
   "cell_type": "code",
   "execution_count": 27,
   "metadata": {},
   "outputs": [],
   "source": [
    "## Check whether two results are consistent? Why??"
   ]
  },
  {
   "cell_type": "code",
   "execution_count": null,
   "metadata": {},
   "outputs": [],
   "source": []
  }
 ],
 "metadata": {
  "kernelspec": {
   "display_name": "Python 3",
   "language": "python",
   "name": "python3"
  },
  "language_info": {
   "codemirror_mode": {
    "name": "ipython",
    "version": 3
   },
   "file_extension": ".py",
   "mimetype": "text/x-python",
   "name": "python",
   "nbconvert_exporter": "python",
   "pygments_lexer": "ipython3",
   "version": "3.6.5"
  }
 },
 "nbformat": 4,
 "nbformat_minor": 2
}
