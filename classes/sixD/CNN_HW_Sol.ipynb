{
 "cells": [
  {
   "cell_type": "code",
   "execution_count": 1,
   "metadata": {},
   "outputs": [],
   "source": [
    "# import necessary packages\n",
    "import torch\n",
    "import numpy as np\n",
    "import torch.nn as nn\n",
    "import torch.nn.functional as F\n",
    "from torchvision import datasets, transforms\n",
    "from torch.autograd import Variable\n",
    "import matplotlib.pyplot as plt"
   ]
  },
  {
   "cell_type": "code",
   "execution_count": 2,
   "metadata": {},
   "outputs": [],
   "source": [
    "seed = 42\n",
    "device = torch.device(\"cuda\" if torch.cuda.is_available() else \"cpu\")\n",
    "torch.set_num_threads(8)\n",
    "np.random.seed(seed)\n",
    "torch.manual_seed(seed)\n",
    "dtype = np.float32"
   ]
  },
  {
   "cell_type": "code",
   "execution_count": 3,
   "metadata": {},
   "outputs": [],
   "source": [
    "# Build and transform the dataset\n",
    "kwargs = {\"num_workers\": 1, \"pin_memory\": True}\n",
    "trains = datasets.MNIST('./data', train=True, download=True,\n",
    "                        transform=transforms.Compose([\n",
    "                            transforms.ToTensor(),\n",
    "                            transforms.Normalize((0.1307,), (0.3081,)),\n",
    "                        ]))\n",
    "tests = datasets.MNIST('./data', train=False,\n",
    "                       transform=transforms.Compose([\n",
    "                            transforms.ToTensor(),\n",
    "                            transforms.Normalize((0.1307,), (0.3081,)),\n",
    "                        ]))\n",
    "batch_size = 50\n",
    "train_loader = torch.utils.data.DataLoader(trains, batch_size=batch_size, shuffle=True, **kwargs)\n",
    "test_loader = torch.utils.data.DataLoader(tests, batch_size=batch_size, shuffle=True, **kwargs)"
   ]
  },
  {
   "cell_type": "code",
   "execution_count": 4,
   "metadata": {},
   "outputs": [],
   "source": [
    "# construct your CNN model\n",
    "# recall the architecture in class\n",
    "class CNN(nn.Module):\n",
    "    def __init__(self):\n",
    "        super(CNN,self).__init__()\n",
    "        self.conv1 = torch.nn.Sequential(\n",
    "            nn.Conv2d(in_channels = 1,\n",
    "                      out_channels = 16,\n",
    "                      kernel_size = 5,\n",
    "                      stride = 1,\n",
    "                      padding = 2),\n",
    "            nn.ReLU(),\n",
    "            nn.MaxPool2d(kernel_size = 2)\n",
    "         )\n",
    "        self.conv2 = torch.nn.Sequential(\n",
    "            nn.Conv2d(in_channels = 16,\n",
    "                      out_channels = 32,\n",
    "                      kernel_size = 5,\n",
    "                      stride = 1,\n",
    "                      padding = 2),\n",
    "            nn.ReLU(),\n",
    "            nn.MaxPool2d(kernel_size = 2)\n",
    "        )\n",
    "        self.out = nn.Linear(32*7*7,10)\n",
    "#         ... feel free to add more conv ...\n",
    "\n",
    "    def forward(self,x):\n",
    "        x = self.conv1(x)\n",
    "        x = self.conv2(x)\n",
    "        x = x.view(x.size(0), -1) #flat\n",
    "        output = self.out(x)\n",
    "        x = F.log_softmax(output,dim=1)\n",
    "        return output"
   ]
  },
  {
   "cell_type": "code",
   "execution_count": 5,
   "metadata": {},
   "outputs": [],
   "source": [
    "cnn = CNN()\n",
    "\n",
    "# learning rate\n",
    "lr = 0.001\n",
    "\n",
    "num_epochs = 1\n",
    "\n",
    "criterion = nn.CrossEntropyLoss()\n",
    "optimizer = torch.optim.Adam(cnn.parameters(), lr=lr)"
   ]
  },
  {
   "cell_type": "code",
   "execution_count": 6,
   "metadata": {},
   "outputs": [
    {
     "name": "stdout",
     "output_type": "stream",
     "text": [
      "0:\t 2.298391819000244\n",
      "20:\t 0.8019713759422302\n",
      "40:\t 0.6691463589668274\n",
      "60:\t 0.4332978129386902\n",
      "80:\t 0.165974423289299\n",
      "100:\t 0.2768283784389496\n",
      "120:\t 0.36295098066329956\n",
      "140:\t 0.1765490025281906\n",
      "160:\t 0.21410627663135529\n",
      "180:\t 0.11063538491725922\n",
      "200:\t 0.1784515380859375\n",
      "220:\t 0.0586564727127552\n",
      "240:\t 0.12716764211654663\n",
      "260:\t 0.20876972377300262\n",
      "280:\t 0.09003323316574097\n",
      "300:\t 0.10319866240024567\n",
      "320:\t 0.09129230678081512\n",
      "340:\t 0.1200890988111496\n",
      "360:\t 0.19473373889923096\n",
      "380:\t 0.035309799015522\n",
      "400:\t 0.055809780955314636\n",
      "420:\t 0.04339432716369629\n",
      "440:\t 0.07503099739551544\n",
      "460:\t 0.10059560090303421\n",
      "480:\t 0.06602080166339874\n",
      "500:\t 0.08752937614917755\n",
      "520:\t 0.04663199558854103\n",
      "540:\t 0.017380937933921814\n",
      "560:\t 0.11798200756311417\n",
      "580:\t 0.14194020628929138\n",
      "600:\t 0.12523111701011658\n",
      "620:\t 0.013495011255145073\n",
      "640:\t 0.0336536206305027\n",
      "660:\t 0.022468362003564835\n",
      "680:\t 0.01639704778790474\n",
      "700:\t 0.03839060291647911\n",
      "720:\t 0.07362058013677597\n",
      "740:\t 0.04513496905565262\n",
      "760:\t 0.19066478312015533\n",
      "780:\t 0.07254042476415634\n",
      "800:\t 0.041113752871751785\n",
      "820:\t 0.053931597620248795\n",
      "840:\t 0.1241832822561264\n",
      "860:\t 0.26248133182525635\n",
      "880:\t 0.08013655990362167\n",
      "900:\t 0.06659717857837677\n",
      "920:\t 0.11218265444040298\n",
      "940:\t 0.06695093959569931\n",
      "960:\t 0.08731947094202042\n",
      "980:\t 0.10698471963405609\n",
      "1000:\t 0.059452757239341736\n",
      "1020:\t 0.1648516058921814\n",
      "1040:\t 0.06096844747662544\n",
      "1060:\t 0.07075793296098709\n",
      "1080:\t 0.018656635656952858\n",
      "1100:\t 0.003380990121513605\n",
      "1120:\t 0.01963876746594906\n",
      "1140:\t 0.03727531433105469\n",
      "1160:\t 0.002137680072337389\n",
      "1180:\t 0.13753074407577515\n"
     ]
    }
   ],
   "source": [
    "loss_count = []\n",
    "#run hour model\n",
    "for epoch in range(num_epochs):\n",
    "    for i, (x, y) in enumerate(train_loader):\n",
    "        x = Variable(x)\n",
    "        y = Variable(y)\n",
    "        output = cnn(x)\n",
    "        loss = criterion(output,y)\n",
    "        optimizer.zero_grad()\n",
    "        loss.backward()\n",
    "        optimizer.step()\n",
    "        if i%20 == 0:\n",
    "            loss_count.append(loss)\n",
    "            print('{}:\\t'.format(i), loss.item())"
   ]
  },
  {
   "cell_type": "code",
   "execution_count": 7,
   "metadata": {},
   "outputs": [
    {
     "data": {
      "image/png": "[encoded data removed]",
      "text/plain": [
       "<Figure size 432x288 with 1 Axes>"
      ]
     },
     "metadata": {},
     "output_type": "display_data"
    }
   ],
   "source": [
    "plt.figure('Loss')\n",
    "plt.plot(loss_count,label='Loss')\n",
    "plt.legend()\n",
    "plt.show()"
   ]
  },
  {
   "cell_type": "code",
   "execution_count": 8,
   "metadata": {},
   "outputs": [
    {
     "name": "stdout",
     "output_type": "stream",
     "text": [
      "accuracy:\t 0.98\n",
      "accuracy:\t 1.0\n"
     ]
    }
   ],
   "source": [
    "#test code\n",
    "accuracy_count = []\n",
    "for i, (test_x, test_y) in enumerate(test_loader):\n",
    "    test_x = Variable(test_x)\n",
    "    test_y = Variable(test_y)\n",
    "    output = cnn(test_x)\n",
    "    accuracy = torch.max(output,1)[1].numpy() == test_y.numpy()\n",
    "    accuracy_count.append(accuracy.mean())\n",
    "    if (i+1) % 100 == 0:\n",
    "        print('accuracy:\\t',accuracy.mean())"
   ]
  },
  {
   "cell_type": "code",
   "execution_count": 9,
   "metadata": {},
   "outputs": [
    {
     "data": {
      "image/png": "[encoded data removed]",
      "text/plain": [
       "<Figure size 432x288 with 1 Axes>"
      ]
     },
     "metadata": {},
     "output_type": "display_data"
    }
   ],
   "source": [
    "plt.figure('Accuracy')\n",
    "plt.plot(accuracy_count,label='Accuracy')\n",
    "plt.legend()\n",
    "plt.show()"
   ]
  },
  {
   "cell_type": "code",
   "execution_count": null,
   "metadata": {},
   "outputs": [],
   "source": []
  }
 ],
 "metadata": {
  "kernelspec": {
   "display_name": "Python 3",
   "language": "python",
   "name": "python3"
  },
  "language_info": {
   "codemirror_mode": {
    "name": "ipython",
    "version": 3
   },
   "file_extension": ".py",
   "mimetype": "text/x-python",
   "name": "python",
   "nbconvert_exporter": "python",
   "pygments_lexer": "ipython3",
   "version": "3.6.5"
  }
 },
 "nbformat": 4,
 "nbformat_minor": 2
}
