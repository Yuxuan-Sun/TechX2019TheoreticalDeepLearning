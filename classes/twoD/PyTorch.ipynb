{
 "cells": [
  {
   "cell_type": "code",
   "execution_count": 28,
   "metadata": {},
   "outputs": [],
   "source": [
    "import torch\n",
    "import numpy as np"
   ]
  },
  {
   "cell_type": "code",
   "execution_count": 12,
   "metadata": {},
   "outputs": [],
   "source": [
    "N, D = 3, 4\n",
    "# Define tensors\n",
    "x = torch.randn(N, D, requires_grad=True)\n",
    "y = torch.randn(N, D, requires_grad=True)\n",
    "z = torch.randn(N, D, requires_grad=True)"
   ]
  },
  {
   "cell_type": "code",
   "execution_count": 13,
   "metadata": {},
   "outputs": [],
   "source": [
    "# Forward computation\n",
    "a = x * y\n",
    "b = a + z\n",
    "c = torch.sum(b)"
   ]
  },
  {
   "cell_type": "code",
   "execution_count": 14,
   "metadata": {},
   "outputs": [
    {
     "name": "stdout",
     "output_type": "stream",
     "text": [
      "tensor([[ 1.7123,  0.0100,  0.8626, -0.2881],\n",
      "        [ 1.2074,  0.6320, -2.2519,  0.9246],\n",
      "        [-0.3916,  0.3038, -1.2201, -1.4378]])\n",
      "tensor([[-0.5010, -0.7405, -0.6437, -0.2504],\n",
      "        [ 0.6147,  0.1546,  2.3687,  0.8019],\n",
      "        [-0.1534, -0.3059,  1.1889, -0.1786]])\n",
      "tensor([[1., 1., 1., 1.],\n",
      "        [1., 1., 1., 1.],\n",
      "        [1., 1., 1., 1.]])\n"
     ]
    }
   ],
   "source": [
    "# Backward propagation\n",
    "c.backward()\n",
    "\n",
    "print(x.grad)\n",
    "print(y.grad)\n",
    "print(z.grad)"
   ]
  },
  {
   "cell_type": "code",
   "execution_count": 16,
   "metadata": {},
   "outputs": [
    {
     "name": "stdout",
     "output_type": "stream",
     "text": [
      "tensor([[0, 0, 0],\n",
      "        [0, 0, 0],\n",
      "        [0, 0, 0],\n",
      "        [0, 0, 0],\n",
      "        [0, 0, 0]])\n"
     ]
    }
   ],
   "source": [
    "# Similarly as in Numpy, we can create a zero-tensor in PyTorch\n",
    "x = torch.zeros(5, 3, dtype=torch.long)\n",
    "print(x)"
   ]
  },
  {
   "cell_type": "code",
   "execution_count": 19,
   "metadata": {},
   "outputs": [
    {
     "name": "stdout",
     "output_type": "stream",
     "text": [
      "tensor([1, 2, 3])\n",
      "torch.int64\n"
     ]
    }
   ],
   "source": [
    "# Or we can also create a tensor directly from a list\n",
    "x = torch.tensor([1, 2, 3])\n",
    "print(x)\n",
    "print(x.dtype)"
   ]
  },
  {
   "cell_type": "code",
   "execution_count": 20,
   "metadata": {},
   "outputs": [
    {
     "name": "stdout",
     "output_type": "stream",
     "text": [
      "tensor([2.4000, 1.0000])\n",
      "torch.float32\n"
     ]
    }
   ],
   "source": [
    "x = torch.tensor([2.4, 1])\n",
    "print(x)\n",
    "print(x.dtype)"
   ]
  },
  {
   "cell_type": "code",
   "execution_count": 22,
   "metadata": {},
   "outputs": [
    {
     "name": "stdout",
     "output_type": "stream",
     "text": [
      "torch.Size([2])\n",
      "torch.Size([4, 5])\n"
     ]
    }
   ],
   "source": [
    "# Get the size of a tensor\n",
    "print(x.size())\n",
    "x = torch.ones(4, 5)\n",
    "print(x.size())"
   ]
  },
  {
   "cell_type": "code",
   "execution_count": 24,
   "metadata": {},
   "outputs": [
    {
     "name": "stdout",
     "output_type": "stream",
     "text": [
      "torch.Size([4, 4]) torch.Size([16]) torch.Size([2, 8])\n"
     ]
    }
   ],
   "source": [
    "# To reshape the size of a tensor, use .view function\n",
    "x = torch.randn(4, 4)\n",
    "y = x.view(16)\n",
    "z = x.view(-1, 8)\n",
    "print(x.size(), y.size(), z.size())"
   ]
  },
  {
   "cell_type": "code",
   "execution_count": 26,
   "metadata": {},
   "outputs": [
    {
     "name": "stdout",
     "output_type": "stream",
     "text": [
      "tensor([-0.3127])\n",
      "-0.31267285346984863\n"
     ]
    }
   ],
   "source": [
    "# For a scalar tensor, use .item function to get its value\n",
    "t = torch.randn(1)\n",
    "print(t)\n",
    "print(t.item())"
   ]
  },
  {
   "cell_type": "code",
   "execution_count": 35,
   "metadata": {},
   "outputs": [
    {
     "name": "stdout",
     "output_type": "stream",
     "text": [
      "[[0.71251956 0.55269068 0.34798382 0.45690354]\n",
      " [0.77975698 0.37785224 0.33958764 0.77233541]\n",
      " [0.58358928 0.06533935 0.26789369 0.35507593]\n",
      " [0.39157167 0.69885708 0.60247685 0.28006096]]\n",
      "tensor([[0.7125, 0.5527, 0.3480, 0.4569],\n",
      "        [0.7798, 0.3779, 0.3396, 0.7723],\n",
      "        [0.5836, 0.0653, 0.2679, 0.3551],\n",
      "        [0.3916, 0.6989, 0.6025, 0.2801]], dtype=torch.float64)\n"
     ]
    }
   ],
   "source": [
    "# One can also translate between numpy and pytorch seamlessly\n",
    "a = np.random.rand(4, 4)\n",
    "b = torch.from_numpy(a)\n",
    "print(a)\n",
    "print(b)"
   ]
  },
  {
   "cell_type": "code",
   "execution_count": 36,
   "metadata": {},
   "outputs": [
    {
     "name": "stdout",
     "output_type": "stream",
     "text": [
      "[[ 1.1762104  -0.7075631   1.0117321   0.3027173 ]\n",
      " [-0.38124004  0.5757111   1.5964781  -1.4748666 ]\n",
      " [ 0.10169525  1.4607219   0.34397843 -0.5107189 ]\n",
      " [ 1.2519964  -0.19499914 -0.810587    0.63314253]]\n",
      "tensor([[ 1.1762, -0.7076,  1.0117,  0.3027],\n",
      "        [-0.3812,  0.5757,  1.5965, -1.4749],\n",
      "        [ 0.1017,  1.4607,  0.3440, -0.5107],\n",
      "        [ 1.2520, -0.1950, -0.8106,  0.6331]])\n"
     ]
    }
   ],
   "source": [
    "b = torch.randn(4, 4)\n",
    "a = b.numpy()\n",
    "print(a)\n",
    "print(b)"
   ]
  },
  {
   "cell_type": "code",
   "execution_count": null,
   "metadata": {},
   "outputs": [],
   "source": []
  }
 ],
 "metadata": {
  "kernelspec": {
   "display_name": "Python 3",
   "language": "python",
   "name": "python3"
  },
  "language_info": {
   "codemirror_mode": {
    "name": "ipython",
    "version": 3
   },
   "file_extension": ".py",
   "mimetype": "text/x-python",
   "name": "python",
   "nbconvert_exporter": "python",
   "pygments_lexer": "ipython3",
   "version": "3.6.5"
  }
 },
 "nbformat": 4,
 "nbformat_minor": 2
}
