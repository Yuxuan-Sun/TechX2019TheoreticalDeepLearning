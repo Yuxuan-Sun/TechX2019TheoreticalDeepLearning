{
 "cells": [
  {
   "cell_type": "code",
   "execution_count": 63,
   "metadata": {},
   "outputs": [],
   "source": [
    "import numpy as np\n",
    "import matplotlib.pyplot as plt\n",
    "from pprint import pprint"
   ]
  },
  {
   "cell_type": "code",
   "execution_count": 39,
   "metadata": {},
   "outputs": [],
   "source": [
    "% matplotlib inline"
   ]
  },
  {
   "cell_type": "markdown",
   "metadata": {},
   "source": [
    "## In this part we will first show how to create vectors and matrices in numpy"
   ]
  },
  {
   "cell_type": "code",
   "execution_count": 40,
   "metadata": {},
   "outputs": [
    {
     "name": "stdout",
     "output_type": "stream",
     "text": [
      "[0. 0. 0. 0. 0.]\n",
      "Type of elements in z: float64\n",
      "[0. 0. 0. 0. 0.]\n",
      "Type of elements in z: float32\n",
      "[1. 1. 1. 1. 1. 1. 1. 1. 1. 1.]\n",
      "Size of the created array: (10,)\n",
      "Size of the matrix: (4, 5)\n"
     ]
    }
   ],
   "source": [
    "# Create a all-zero vector.\n",
    "z = np.zeros(5)\n",
    "print(z)\n",
    "print(\"Type of elements in z: {}\".format(z.dtype))\n",
    "# You can also specify the type of the created elements\n",
    "z = np.zeros(5, dtype=np.float32)\n",
    "print(z)\n",
    "print(\"Type of elements in z: {}\".format(z.dtype))\n",
    "\n",
    "# Similarly, you can also create a all-one vector.\n",
    "a = np.ones(10)\n",
    "print(a)\n",
    "\n",
    "# To see the size of an array, use the following attribute:\n",
    "print(\"Size of the created array: {}\".format(a.shape))\n",
    "m = np.zeros((4, 5))\n",
    "print(\"Size of the matrix: {}\".format(m.shape))"
   ]
  },
  {
   "cell_type": "code",
   "execution_count": 41,
   "metadata": {},
   "outputs": [
    {
     "data": {
      "image/png": "[encoded data removed]",
      "text/plain": [
       "<Figure size 432x288 with 1 Axes>"
      ]
     },
     "metadata": {},
     "output_type": "display_data"
    }
   ],
   "source": [
    "# Now what if I'd like to generate a sequence of random numbers in [0, 1]?\n",
    "t = np.random.rand(10000)\n",
    "\n",
    "# To verify the generated sequence of numbers indeed follow the uniform distribution, we visualize them using histogram:\n",
    "num_bins = 10\n",
    "n, bins, patches = plt.hist(t, num_bins, facecolor='blue', alpha=0.5)\n",
    "plt.show()"
   ]
  },
  {
   "cell_type": "code",
   "execution_count": 42,
   "metadata": {},
   "outputs": [
    {
     "name": "stdout",
     "output_type": "stream",
     "text": [
      "Inner product of a and b: 2507.135479479752\n",
      "Verification value: 2507.135479479749\n"
     ]
    }
   ],
   "source": [
    "# OK, we now know how to create vectors, let's multiply them!\n",
    "dim = 10000\n",
    "vec_a, vec_b = np.random.rand(dim), np.random.rand(dim)\n",
    "r = np.dot(vec_a, vec_b)\n",
    "print(\"Inner product of a and b: {}\".format(r))\n",
    "\n",
    "# Let's brute forcely verify that the answer is correct. \n",
    "r = 0.0\n",
    "for a, b in zip(vec_a, vec_b):\n",
    "    r += a * b\n",
    "print(\"Verification value: {}\".format(r))\n"
   ]
  },
  {
   "cell_type": "code",
   "execution_count": 46,
   "metadata": {},
   "outputs": [],
   "source": [
    "# But, using np.dot() is much much faster!\n",
    "dim = 100\n",
    "matrix_a, matrix_b = np.random.rand(dim, dim), np.random.rand(dim, dim)"
   ]
  },
  {
   "cell_type": "code",
   "execution_count": 47,
   "metadata": {},
   "outputs": [
    {
     "name": "stdout",
     "output_type": "stream",
     "text": [
      "20.9 µs ± 1.43 µs per loop (mean ± std. dev. of 7 runs, 100000 loops each)\n"
     ]
    }
   ],
   "source": [
    "%%timeit \n",
    "np.dot(matrix_a, matrix_b)"
   ]
  },
  {
   "cell_type": "code",
   "execution_count": 48,
   "metadata": {},
   "outputs": [
    {
     "name": "stdout",
     "output_type": "stream",
     "text": [
      "375 ms ± 5.8 ms per loop (mean ± std. dev. of 7 runs, 1 loop each)\n"
     ]
    }
   ],
   "source": [
    "%%timeit\n",
    "r = np.zeros((dim, dim))\n",
    "for i in range(dim):\n",
    "    for j in range(dim):\n",
    "        s = 0.0\n",
    "        for k in range(dim):\n",
    "            s += matrix_a[i, k] * matrix_b[k, j]"
   ]
  },
  {
   "cell_type": "markdown",
   "metadata": {},
   "source": [
    "### As shown above, for matrices of very moderate size, the improvement using the internal implementation of Numpy is more than 10000"
   ]
  },
  {
   "cell_type": "code",
   "execution_count": 51,
   "metadata": {},
   "outputs": [
    {
     "data": {
      "text/plain": [
       "array([[0.48870152, 0.17430632, 0.76289926, 0.39520835],\n",
       "       [0.19403696, 0.77016551, 0.38486592, 0.05380492],\n",
       "       [0.71784197, 0.14508135, 0.68484003, 0.83052676],\n",
       "       [0.68938513, 0.67362698, 0.52797212, 0.10092024]])"
      ]
     },
     "execution_count": 51,
     "metadata": {},
     "output_type": "execute_result"
    }
   ],
   "source": [
    "# Now we show some basic matrix operations that we learned from Lecture 1.\n",
    "m = np.random.rand(4, 4)\n",
    "m"
   ]
  },
  {
   "cell_type": "code",
   "execution_count": 52,
   "metadata": {},
   "outputs": [
    {
     "data": {
      "text/plain": [
       "array([[0.48870152, 0.19403696, 0.71784197, 0.68938513],\n",
       "       [0.17430632, 0.77016551, 0.14508135, 0.67362698],\n",
       "       [0.76289926, 0.38486592, 0.68484003, 0.52797212],\n",
       "       [0.39520835, 0.05380492, 0.83052676, 0.10092024]])"
      ]
     },
     "execution_count": 52,
     "metadata": {},
     "output_type": "execute_result"
    }
   ],
   "source": [
    "# The transpose of a matrix.\n",
    "m.T"
   ]
  },
  {
   "cell_type": "code",
   "execution_count": 53,
   "metadata": {},
   "outputs": [
    {
     "data": {
      "text/plain": [
       "array([[0.92059818, 0.59212644, 1.2338085 , 1.31981384, 0.53657524],\n",
       "       [1.42398886, 0.80050031, 1.8931957 , 2.05750024, 0.59569989],\n",
       "       [1.64479955, 1.1203698 , 2.16828353, 2.29779367, 1.04740108]])"
      ]
     },
     "execution_count": 53,
     "metadata": {},
     "output_type": "execute_result"
    }
   ],
   "source": [
    "# Matrix product.\n",
    "a = np.random.rand(3, 4)\n",
    "b = np.random.rand(4, 5)\n",
    "np.dot(a, b)"
   ]
  },
  {
   "cell_type": "code",
   "execution_count": 54,
   "metadata": {},
   "outputs": [
    {
     "data": {
      "text/plain": [
       "2.044627307989003"
      ]
     },
     "execution_count": 54,
     "metadata": {},
     "output_type": "execute_result"
    }
   ],
   "source": [
    "# Trace of a square matrix:\n",
    "np.trace(m)"
   ]
  },
  {
   "cell_type": "code",
   "execution_count": 59,
   "metadata": {},
   "outputs": [
    {
     "name": "stdout",
     "output_type": "stream",
     "text": [
      "4\n",
      "Rank of all-zero matrix: 0\n",
      "Rank of all-one matrix: 1\n"
     ]
    }
   ],
   "source": [
    "# Rank of a matrix:\n",
    "print(np.linalg.matrix_rank(m))\n",
    "# See rank-deficient matrices\n",
    "z = np.zeros((4, 4))\n",
    "o = np.ones((4, 4))\n",
    "print(\"Rank of all-zero matrix: {}\".format(np.linalg.matrix_rank(z)))\n",
    "print(\"Rank of all-one matrix: {}\".format(np.linalg.matrix_rank(o)))"
   ]
  },
  {
   "cell_type": "code",
   "execution_count": 60,
   "metadata": {},
   "outputs": [
    {
     "data": {
      "text/plain": [
       "True"
      ]
     },
     "execution_count": 60,
     "metadata": {},
     "output_type": "execute_result"
    }
   ],
   "source": [
    "# Compute the inverse of a matrix:\n",
    "inv = np.linalg.inv(m)\n",
    "np.allclose(np.dot(inv, m), np.eye(4))"
   ]
  },
  {
   "cell_type": "code",
   "execution_count": 65,
   "metadata": {},
   "outputs": [
    {
     "name": "stdout",
     "output_type": "stream",
     "text": [
      "The original square matrix:\n",
      "[[0.48870152 0.17430632 0.76289926 0.39520835]\n",
      " [0.19403696 0.77016551 0.38486592 0.05380492]\n",
      " [0.71784197 0.14508135 0.68484003 0.83052676]\n",
      " [0.68938513 0.67362698 0.52797212 0.10092024]]\n",
      "Eigenvalues: [ 1.94919417+0.j         -0.22033058+0.22769634j -0.22033058-0.22769634j\n",
      "  0.53609431+0.j        ]\n",
      "Eigenvectors: \n",
      "[[ 0.50394142+0.j         -0.09633057+0.44944953j -0.09633057-0.44944953j\n",
      "   0.38397582+0.j        ]\n",
      " [ 0.31442997+0.j          0.10914821+0.12129047j  0.10914821-0.12129047j\n",
      "  -0.8211358 +0.j        ]\n",
      " [ 0.64127055+0.j         -0.39078878-0.4741779j  -0.39078878+0.4741779j\n",
      "   0.34069174+0.j        ]\n",
      " [ 0.48574575+0.j          0.62010506+0.j          0.62010506-0.j\n",
      "  -0.24945483+0.j        ]]\n"
     ]
    }
   ],
   "source": [
    "# Compute the eigen-decomposition of a square matrix.\n",
    "print(\"The original square matrix:\")\n",
    "print(m)\n",
    "w, v = np.linalg.eig(m)\n",
    "print(\"Eigenvalues: {}\".format(w))\n",
    "print(\"Eigenvectors: \")\n",
    "print(v)"
   ]
  },
  {
   "cell_type": "code",
   "execution_count": 66,
   "metadata": {},
   "outputs": [
    {
     "name": "stdout",
     "output_type": "stream",
     "text": [
      "[[0.48870152 0.18417164 0.74037061 0.54229674]\n",
      " [0.18417164 0.77016551 0.26497363 0.36371595]\n",
      " [0.74037061 0.26497363 0.68484003 0.67924944]\n",
      " [0.54229674 0.36371595 0.67924944 0.10092024]]\n",
      "Eigenvalues: [ 1.95659874  0.62684194 -0.15788785 -0.38092552]\n",
      "Eigenvectors: \n",
      "[[-0.52667033 -0.29202623  0.77885783 -0.17526983]\n",
      " [-0.35968498  0.91717138  0.06493582 -0.15876621]\n",
      " [-0.6232551  -0.27064597 -0.61348479 -0.40241801]\n",
      " [-0.4525463  -0.01637343 -0.11313811  0.88438313]]\n"
     ]
    }
   ],
   "source": [
    "m = (m + m.T) / 2\n",
    "print(m)\n",
    "w, v = np.linalg.eig(m)\n",
    "print(\"Eigenvalues: {}\".format(w))\n",
    "print(\"Eigenvectors: \")\n",
    "print(v)"
   ]
  },
  {
   "cell_type": "code",
   "execution_count": null,
   "metadata": {},
   "outputs": [],
   "source": []
  }
 ],
 "metadata": {
  "kernelspec": {
   "display_name": "Python 3",
   "language": "python",
   "name": "python3"
  },
  "language_info": {
   "codemirror_mode": {
    "name": "ipython",
    "version": 3
   },
   "file_extension": ".py",
   "mimetype": "text/x-python",
   "name": "python",
   "nbconvert_exporter": "python",
   "pygments_lexer": "ipython3",
   "version": "3.6.8"
  }
 },
 "nbformat": 4,
 "nbformat_minor": 2
}
