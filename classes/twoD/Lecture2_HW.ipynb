{
 "cells": [
  {
   "cell_type": "code",
   "execution_count": 13,
   "metadata": {},
   "outputs": [],
   "source": [
    "import matplotlib.pyplot as plt\n",
    "import numpy as np\n",
    "import time\n",
    "from sklearn import datasets"
   ]
  },
  {
   "cell_type": "code",
   "execution_count": 14,
   "metadata": {},
   "outputs": [],
   "source": [
    "% matplotlib inline"
   ]
  },
  {
   "cell_type": "code",
   "execution_count": 15,
   "metadata": {},
   "outputs": [
    {
     "name": "stdout",
     "output_type": "stream",
     "text": [
      "Number of training data: 309\n",
      "Number of test data: 133\n",
      "Number of attributes: 11\n"
     ]
    }
   ],
   "source": [
    "diabetes = datasets.load_diabetes()\n",
    "data, target = diabetes.data, diabetes.target\n",
    "num_insts, num_attrs = data.shape\n",
    "augmented_data = np.ones((num_insts, num_attrs + 1))\n",
    "num_attrs += 1\n",
    "augmented_data[:, :-1] = data\n",
    "data = augmented_data\n",
    "idx = np.arange(num_insts)\n",
    "np.random.shuffle(idx)\n",
    "num_train = int(0.7 * num_insts)\n",
    "data, target = data[idx], target[idx]\n",
    "data_train, target_train = data[:num_train], target[:num_train]\n",
    "data_test, target_test = data[num_train:], target[num_train:]\n",
    "print(\"Number of training data: {}\".format(num_train))\n",
    "print(\"Number of test data: {}\".format(num_insts - num_train))\n",
    "print(\"Number of attributes: {}\".format(data.shape[1]))"
   ]
  },
  {
   "cell_type": "code",
   "execution_count": 22,
   "metadata": {},
   "outputs": [
    {
     "name": "stdout",
     "output_type": "stream",
     "text": [
      "[0. 0. 0. 0. 0. 0. 0. 0. 0. 0. 0.]\n",
      "Time elapsed for training: 0.0018889904022216797 seconds.\n"
     ]
    }
   ],
   "source": [
    "# Method 1, implement the gradient descent algorithm\n",
    "w = np.zeros(num_attrs)\n",
    "\n",
    "## Please implement your gradient descent method here.\n",
    "## Stop condition: ||gradient|| <= eps || num_iters > 5000\n",
    "eps = 1e-3\n",
    "max_iters = 5000\n",
    "train_losses, train_gradients = np.zeros(max_iters), np.zeros(max_iters)\n",
    "num_iters = 0\n",
    "start_time = time.time()\n",
    "\n",
    "\n",
    "def error_function(theta, X, y):\n",
    "    diff = np.dot(X, theta) - y\n",
    "    return (1./2*m) * np.dot(np.transpose(diff), diff)\n",
    "\n",
    "def gradient_function(theta, X, y):\n",
    "    diff = np.dot(X, theta) - y\n",
    "    return (1./m) * np.dot(np.transpose(X), diff)\n",
    "\n",
    "alpha = 0.01\n",
    "theta = 1\n",
    "gradient = gradient_function(theta,data_train,target_train)\n",
    "train_gradients[0] = gradient\n",
    "num_iters += 1\n",
    "\n",
    "\n",
    "while((num_iters < 5000) and (gradient > eps)):\n",
    "    theta = theta - alpha*gradient\n",
    "    graident = gradient_function(theta, data_train, target_train)\n",
    "    train_gradients[num_iters] = gradient\n",
    "    train_losses[num_iters] = error_function(theta, data_train, target_train)\n",
    "\n",
    "## Your code here, remember:\n",
    "## 1. You should record your training loss in each iteration\n",
    "## 2. You should record your gradient norm in each iteration\n",
    "## 3. Remember that even for convex functions, if step_size/learning_rate is too larget, then it can diverge.\n",
    "\n",
    "\n",
    "\n",
    "end_time = time.time()\n",
    "print(\"Time elapsed for training: {} seconds.\".format(end_time - start_time))"
   ]
  },
  {
   "cell_type": "code",
   "execution_count": 5,
   "metadata": {},
   "outputs": [
    {
     "data": {
      "image/png": "[encoded data removed]",
      "text/plain": [
       "<Figure size 432x288 with 1 Axes>"
      ]
     },
     "metadata": {},
     "output_type": "display_data"
    }
   ],
   "source": [
    "## Plot training losses\n",
    "plt.figure()\n",
    "plt.plot(np.arange(num_iters), train_losses[:num_iters], \"b--\", linewidth=2)\n",
    "plt.grid(True)\n",
    "plt.title(\"Training Loss vs. Iteration\")\n",
    "plt.show()"
   ]
  },
  {
   "cell_type": "code",
   "execution_count": 7,
   "metadata": {},
   "outputs": [
    {
     "data": {
      "image/png": "[encoded data removed]",
      "text/plain": [
       "<Figure size 432x288 with 1 Axes>"
      ]
     },
     "metadata": {},
     "output_type": "display_data"
    }
   ],
   "source": [
    "## Plot training gradient norms\n",
    "plt.figure()\n",
    "plt.plot(np.arange(num_iters), train_gradients[:num_iters], \"g--\", linewidth=2)\n",
    "plt.grid(True)\n",
    "plt.title(\"Training Gradient Norm vs. Iteration\")\n",
    "plt.show()"
   ]
  },
  {
   "cell_type": "code",
   "execution_count": 8,
   "metadata": {},
   "outputs": [
    {
     "name": "stdout",
     "output_type": "stream",
     "text": [
      "[0. 0. 0. 0. 0. 0. 0. 0. 0. 0. 0.]\n",
      "Average test error: 28530.3007518797.\n"
     ]
    }
   ],
   "source": [
    "## Check the value of final weight vector w\n",
    "print(w)\n",
    "\n",
    "## Use the obtained w for prediction, record the test error.\n",
    "preds = np.dot(data_test, w)\n",
    "mse_test = np.mean((preds - target_test) ** 2)\n",
    "print(\"Average test error: {}.\".format(mse_test))"
   ]
  },
  {
   "cell_type": "code",
   "execution_count": 9,
   "metadata": {},
   "outputs": [
    {
     "name": "stdout",
     "output_type": "stream",
     "text": [
      "Time elapsed: 2.8133392333984375e-05 seconds.\n",
      "[0. 0. 0. 0. 0. 0. 0. 0. 0. 0. 0.]\n"
     ]
    }
   ],
   "source": [
    "# Method 2, implement the closed-form solution\n",
    "start_time = time.time()\n",
    "end_time = time.time()\n",
    "print(\"Time elapsed: {} seconds.\".format(end_time - start_time))\n",
    "print(w)"
   ]
  },
  {
   "cell_type": "code",
   "execution_count": 10,
   "metadata": {},
   "outputs": [
    {
     "name": "stdout",
     "output_type": "stream",
     "text": [
      "Average test error: 28530.3007518797.\n"
     ]
    }
   ],
   "source": [
    "## Use the obtained w for prediction, record the test error.\n",
    "preds = np.dot(data_test, w)\n",
    "mse_test = np.mean((preds - target_test) ** 2)\n",
    "print(\"Average test error: {}.\".format(mse_test))"
   ]
  },
  {
   "cell_type": "code",
   "execution_count": 11,
   "metadata": {},
   "outputs": [],
   "source": [
    "## Check whether two results are consistent? Why??"
   ]
  },
  {
   "cell_type": "code",
   "execution_count": null,
   "metadata": {},
   "outputs": [],
   "source": []
  }
 ],
 "metadata": {
  "kernelspec": {
   "display_name": "Python 3",
   "language": "python",
   "name": "python3"
  },
  "language_info": {
   "codemirror_mode": {
    "name": "ipython",
    "version": 3
   },
   "file_extension": ".py",
   "mimetype": "text/x-python",
   "name": "python",
   "nbconvert_exporter": "python",
   "pygments_lexer": "ipython3",
   "version": "3.6.5"
  }
 },
 "nbformat": 4,
 "nbformat_minor": 2
}
